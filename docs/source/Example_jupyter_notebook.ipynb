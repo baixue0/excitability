{
 "cells": [
  {
   "cell_type": "code",
   "execution_count": 1,
   "id": "50b3a320",
   "metadata": {},
   "outputs": [],
   "source": [
    "import sys,os\n",
    "sys.path.insert(0, os.path.abspath(os.path.join(\"../../src\")))"
   ]
  },
  {
   "cell_type": "markdown",
   "id": "11a37c8f",
   "metadata": {},
   "source": [
    "# Example jupyter notebook"
   ]
  },
  {
   "cell_type": "markdown",
   "id": "4cd3929f",
   "metadata": {},
   "source": [
    "## Segment pulses of activity in videos"
   ]
  },
  {
   "cell_type": "markdown",
   "id": "e6dc383f",
   "metadata": {},
   "source": [
    "### table of all embryos"
   ]
  },
  {
   "cell_type": "code",
   "execution_count": 2,
   "id": "6c1d6606",
   "metadata": {
    "scrolled": true
   },
   "outputs": [
    {
     "data": {
      "text/html": [
       "<div>\n",
       "<style scoped>\n",
       "    .dataframe tbody tr th:only-of-type {\n",
       "        vertical-align: middle;\n",
       "    }\n",
       "\n",
       "    .dataframe tbody tr th {\n",
       "        vertical-align: top;\n",
       "    }\n",
       "\n",
       "    .dataframe thead th {\n",
       "        text-align: right;\n",
       "    }\n",
       "</style>\n",
       "<table border=\"1\" class=\"dataframe\">\n",
       "  <thead>\n",
       "    <tr style=\"text-align: right;\">\n",
       "      <th></th>\n",
       "      <th>phenotype</th>\n",
       "      <th>LabelG</th>\n",
       "      <th>LabelR</th>\n",
       "      <th>tRes</th>\n",
       "      <th>nEnd</th>\n",
       "      <th>note</th>\n",
       "      <th>contractility</th>\n",
       "      <th>comment</th>\n",
       "    </tr>\n",
       "    <tr>\n",
       "      <th>ID</th>\n",
       "      <th></th>\n",
       "      <th></th>\n",
       "      <th></th>\n",
       "      <th></th>\n",
       "      <th></th>\n",
       "      <th></th>\n",
       "      <th></th>\n",
       "      <th></th>\n",
       "    </tr>\n",
       "  </thead>\n",
       "  <tbody>\n",
       "    <tr>\n",
       "      <th>20210409_7</th>\n",
       "      <td>plst</td>\n",
       "      <td>ROK</td>\n",
       "      <td>NMY</td>\n",
       "      <td>0.6</td>\n",
       "      <td>400</td>\n",
       "      <td>SD3050</td>\n",
       "      <td>NaN</td>\n",
       "      <td>EXAMPLE_6</td>\n",
       "    </tr>\n",
       "    <tr>\n",
       "      <th>20210410_2</th>\n",
       "      <td>unc60</td>\n",
       "      <td>ROK</td>\n",
       "      <td>NMY</td>\n",
       "      <td>0.6</td>\n",
       "      <td>700</td>\n",
       "      <td>SD3050</td>\n",
       "      <td>NaN</td>\n",
       "      <td>weak</td>\n",
       "    </tr>\n",
       "    <tr>\n",
       "      <th>20210410_6</th>\n",
       "      <td>unc60</td>\n",
       "      <td>ROK</td>\n",
       "      <td>NMY</td>\n",
       "      <td>0.6</td>\n",
       "      <td>400</td>\n",
       "      <td>SD3050</td>\n",
       "      <td>NaN</td>\n",
       "      <td>weak</td>\n",
       "    </tr>\n",
       "    <tr>\n",
       "      <th>20210410_7</th>\n",
       "      <td>unc60</td>\n",
       "      <td>ROK</td>\n",
       "      <td>NMY</td>\n",
       "      <td>0.6</td>\n",
       "      <td>450</td>\n",
       "      <td>SD3050</td>\n",
       "      <td>NaN</td>\n",
       "      <td>NaN</td>\n",
       "    </tr>\n",
       "    <tr>\n",
       "      <th>20210410_10</th>\n",
       "      <td>unc60</td>\n",
       "      <td>ROK</td>\n",
       "      <td>NMY</td>\n",
       "      <td>0.6</td>\n",
       "      <td>300</td>\n",
       "      <td>SD3050</td>\n",
       "      <td>NaN</td>\n",
       "      <td>NaN</td>\n",
       "    </tr>\n",
       "    <tr>\n",
       "      <th>...</th>\n",
       "      <td>...</td>\n",
       "      <td>...</td>\n",
       "      <td>...</td>\n",
       "      <td>...</td>\n",
       "      <td>...</td>\n",
       "      <td>...</td>\n",
       "      <td>...</td>\n",
       "      <td>...</td>\n",
       "    </tr>\n",
       "    <tr>\n",
       "      <th>20191129_16</th>\n",
       "      <td>ani+nmy</td>\n",
       "      <td>ROK</td>\n",
       "      <td>None</td>\n",
       "      <td>0.6</td>\n",
       "      <td>590</td>\n",
       "      <td>SD30</td>\n",
       "      <td>NaN</td>\n",
       "      <td>NaN</td>\n",
       "    </tr>\n",
       "    <tr>\n",
       "      <th>20191128_13</th>\n",
       "      <td>nmy</td>\n",
       "      <td>UTR</td>\n",
       "      <td>None</td>\n",
       "      <td>0.6</td>\n",
       "      <td>474</td>\n",
       "      <td>SD30</td>\n",
       "      <td>NaN</td>\n",
       "      <td>NaN</td>\n",
       "    </tr>\n",
       "    <tr>\n",
       "      <th>20191128_14</th>\n",
       "      <td>nmy</td>\n",
       "      <td>UTR</td>\n",
       "      <td>None</td>\n",
       "      <td>0.6</td>\n",
       "      <td>581</td>\n",
       "      <td>SD30</td>\n",
       "      <td>NaN</td>\n",
       "      <td>NaN</td>\n",
       "    </tr>\n",
       "    <tr>\n",
       "      <th>20191129_1</th>\n",
       "      <td>ani+nmy</td>\n",
       "      <td>UTR</td>\n",
       "      <td>None</td>\n",
       "      <td>0.6</td>\n",
       "      <td>559</td>\n",
       "      <td>SD30</td>\n",
       "      <td>NaN</td>\n",
       "      <td>NaN</td>\n",
       "    </tr>\n",
       "    <tr>\n",
       "      <th>20191129_2</th>\n",
       "      <td>ani+nmy</td>\n",
       "      <td>UTR</td>\n",
       "      <td>None</td>\n",
       "      <td>0.6</td>\n",
       "      <td>589</td>\n",
       "      <td>SD30</td>\n",
       "      <td>NaN</td>\n",
       "      <td>NaN</td>\n",
       "    </tr>\n",
       "  </tbody>\n",
       "</table>\n",
       "<p>126 rows × 8 columns</p>\n",
       "</div>"
      ],
      "text/plain": [
       "            phenotype LabelG LabelR  tRes  nEnd    note contractility  \\\n",
       "ID                                                                      \n",
       "20210409_7       plst    ROK    NMY   0.6   400  SD3050           NaN   \n",
       "20210410_2      unc60    ROK    NMY   0.6   700  SD3050           NaN   \n",
       "20210410_6      unc60    ROK    NMY   0.6   400  SD3050           NaN   \n",
       "20210410_7      unc60    ROK    NMY   0.6   450  SD3050           NaN   \n",
       "20210410_10     unc60    ROK    NMY   0.6   300  SD3050           NaN   \n",
       "...               ...    ...    ...   ...   ...     ...           ...   \n",
       "20191129_16   ani+nmy    ROK   None   0.6   590    SD30           NaN   \n",
       "20191128_13       nmy    UTR   None   0.6   474    SD30           NaN   \n",
       "20191128_14       nmy    UTR   None   0.6   581    SD30           NaN   \n",
       "20191129_1    ani+nmy    UTR   None   0.6   559    SD30           NaN   \n",
       "20191129_2    ani+nmy    UTR   None   0.6   589    SD30           NaN   \n",
       "\n",
       "               comment  \n",
       "ID                      \n",
       "20210409_7   EXAMPLE_6  \n",
       "20210410_2        weak  \n",
       "20210410_6        weak  \n",
       "20210410_7         NaN  \n",
       "20210410_10        NaN  \n",
       "...                ...  \n",
       "20191129_16        NaN  \n",
       "20191128_13        NaN  \n",
       "20191128_14        NaN  \n",
       "20191129_1         NaN  \n",
       "20191129_2         NaN  \n",
       "\n",
       "[126 rows x 8 columns]"
      ]
     },
     "execution_count": 2,
     "metadata": {},
     "output_type": "execute_result"
    }
   ],
   "source": [
    "import numpy as np\n",
    "import pandas as pd\n",
    "from utils import dir_data,dir_out,pjoin\n",
    "embryos = pd.read_csv(pjoin([dir_data,'embryos.csv']),skipinitialspace=True,comment='#').set_index('ID')\n",
    "embryos"
   ]
  },
  {
   "cell_type": "code",
   "execution_count": 3,
   "id": "86fe0751",
   "metadata": {
    "scrolled": true
   },
   "outputs": [
    {
     "data": {
      "text/html": [
       "<div>\n",
       "<style scoped>\n",
       "    .dataframe tbody tr th:only-of-type {\n",
       "        vertical-align: middle;\n",
       "    }\n",
       "\n",
       "    .dataframe tbody tr th {\n",
       "        vertical-align: top;\n",
       "    }\n",
       "\n",
       "    .dataframe thead th {\n",
       "        text-align: right;\n",
       "    }\n",
       "</style>\n",
       "<table border=\"1\" class=\"dataframe\">\n",
       "  <thead>\n",
       "    <tr style=\"text-align: right;\">\n",
       "      <th></th>\n",
       "      <th>phenotype</th>\n",
       "      <th>LabelG</th>\n",
       "      <th>LabelR</th>\n",
       "      <th>tRes</th>\n",
       "      <th>nEnd</th>\n",
       "      <th>note</th>\n",
       "      <th>contractility</th>\n",
       "      <th>comment</th>\n",
       "    </tr>\n",
       "    <tr>\n",
       "      <th>ID</th>\n",
       "      <th></th>\n",
       "      <th></th>\n",
       "      <th></th>\n",
       "      <th></th>\n",
       "      <th></th>\n",
       "      <th></th>\n",
       "      <th></th>\n",
       "      <th></th>\n",
       "    </tr>\n",
       "  </thead>\n",
       "  <tbody>\n",
       "    <tr>\n",
       "      <th>20181116_3</th>\n",
       "      <td>spd</td>\n",
       "      <td>ROK</td>\n",
       "      <td>NMY</td>\n",
       "      <td>0.4</td>\n",
       "      <td>500</td>\n",
       "      <td>TIRF2030</td>\n",
       "      <td>NaN</td>\n",
       "      <td>NaN</td>\n",
       "    </tr>\n",
       "    <tr>\n",
       "      <th>20181116_4</th>\n",
       "      <td>spd</td>\n",
       "      <td>ROK</td>\n",
       "      <td>NMY</td>\n",
       "      <td>0.4</td>\n",
       "      <td>650</td>\n",
       "      <td>TIRF2030</td>\n",
       "      <td>NaN</td>\n",
       "      <td>NaN</td>\n",
       "    </tr>\n",
       "    <tr>\n",
       "      <th>20181116_5</th>\n",
       "      <td>spd</td>\n",
       "      <td>ROK</td>\n",
       "      <td>NMY</td>\n",
       "      <td>0.4</td>\n",
       "      <td>900</td>\n",
       "      <td>TIRF2030</td>\n",
       "      <td>NaN</td>\n",
       "      <td>NaN</td>\n",
       "    </tr>\n",
       "    <tr>\n",
       "      <th>20181116_6</th>\n",
       "      <td>spd</td>\n",
       "      <td>ROK</td>\n",
       "      <td>NMY</td>\n",
       "      <td>0.4</td>\n",
       "      <td>350</td>\n",
       "      <td>TIRF2030</td>\n",
       "      <td>NaN</td>\n",
       "      <td>NaN</td>\n",
       "    </tr>\n",
       "    <tr>\n",
       "      <th>20190317_5</th>\n",
       "      <td>spd</td>\n",
       "      <td>ROK</td>\n",
       "      <td>LA</td>\n",
       "      <td>0.4</td>\n",
       "      <td>600</td>\n",
       "      <td>TIRF2025</td>\n",
       "      <td>NaN</td>\n",
       "      <td>NaN</td>\n",
       "    </tr>\n",
       "    <tr>\n",
       "      <th>20190317_7</th>\n",
       "      <td>spd</td>\n",
       "      <td>ROK</td>\n",
       "      <td>LA</td>\n",
       "      <td>0.4</td>\n",
       "      <td>650</td>\n",
       "      <td>TIRF2025</td>\n",
       "      <td>NaN</td>\n",
       "      <td>NaN</td>\n",
       "    </tr>\n",
       "    <tr>\n",
       "      <th>20201118_18</th>\n",
       "      <td>spd</td>\n",
       "      <td>ROK</td>\n",
       "      <td>LA</td>\n",
       "      <td>0.4</td>\n",
       "      <td>500</td>\n",
       "      <td>TIRF3030</td>\n",
       "      <td>NaN</td>\n",
       "      <td>NaN</td>\n",
       "    </tr>\n",
       "    <tr>\n",
       "      <th>20201118_19</th>\n",
       "      <td>spd</td>\n",
       "      <td>ROK</td>\n",
       "      <td>LA</td>\n",
       "      <td>0.4</td>\n",
       "      <td>350</td>\n",
       "      <td>TIRF3030</td>\n",
       "      <td>NaN</td>\n",
       "      <td>NaN</td>\n",
       "    </tr>\n",
       "    <tr>\n",
       "      <th>20190524_3</th>\n",
       "      <td>spd</td>\n",
       "      <td>ROK</td>\n",
       "      <td>LA</td>\n",
       "      <td>0.6</td>\n",
       "      <td>550</td>\n",
       "      <td>SD3050</td>\n",
       "      <td>NaN</td>\n",
       "      <td>NaN</td>\n",
       "    </tr>\n",
       "    <tr>\n",
       "      <th>20190524_4</th>\n",
       "      <td>spd</td>\n",
       "      <td>ROK</td>\n",
       "      <td>LA</td>\n",
       "      <td>0.6</td>\n",
       "      <td>300</td>\n",
       "      <td>SD3050</td>\n",
       "      <td>NaN</td>\n",
       "      <td>NaN</td>\n",
       "    </tr>\n",
       "    <tr>\n",
       "      <th>20190524_5</th>\n",
       "      <td>spd</td>\n",
       "      <td>ROK</td>\n",
       "      <td>LA</td>\n",
       "      <td>0.6</td>\n",
       "      <td>350</td>\n",
       "      <td>SD3050</td>\n",
       "      <td>NaN</td>\n",
       "      <td>NaN</td>\n",
       "    </tr>\n",
       "    <tr>\n",
       "      <th>20190524_6</th>\n",
       "      <td>spd</td>\n",
       "      <td>ROK</td>\n",
       "      <td>LA</td>\n",
       "      <td>0.6</td>\n",
       "      <td>250</td>\n",
       "      <td>SD3050</td>\n",
       "      <td>NaN</td>\n",
       "      <td>NaN</td>\n",
       "    </tr>\n",
       "    <tr>\n",
       "      <th>20190524_7</th>\n",
       "      <td>spd</td>\n",
       "      <td>ROK</td>\n",
       "      <td>LA</td>\n",
       "      <td>0.6</td>\n",
       "      <td>220</td>\n",
       "      <td>SD3050</td>\n",
       "      <td>NaN</td>\n",
       "      <td>NaN</td>\n",
       "    </tr>\n",
       "    <tr>\n",
       "      <th>20190524_8</th>\n",
       "      <td>spd</td>\n",
       "      <td>ROK</td>\n",
       "      <td>LA</td>\n",
       "      <td>0.6</td>\n",
       "      <td>350</td>\n",
       "      <td>SD3050</td>\n",
       "      <td>NaN</td>\n",
       "      <td>NaN</td>\n",
       "    </tr>\n",
       "    <tr>\n",
       "      <th>20210420_1</th>\n",
       "      <td>spd</td>\n",
       "      <td>ROK</td>\n",
       "      <td>NMY</td>\n",
       "      <td>0.6</td>\n",
       "      <td>300</td>\n",
       "      <td>SD3050</td>\n",
       "      <td>NaN</td>\n",
       "      <td>NaN</td>\n",
       "    </tr>\n",
       "    <tr>\n",
       "      <th>20210420_9</th>\n",
       "      <td>spd</td>\n",
       "      <td>ROK</td>\n",
       "      <td>NMY</td>\n",
       "      <td>0.6</td>\n",
       "      <td>250</td>\n",
       "      <td>SD3050</td>\n",
       "      <td>NaN</td>\n",
       "      <td>NaN</td>\n",
       "    </tr>\n",
       "    <tr>\n",
       "      <th>20210420_10</th>\n",
       "      <td>spd</td>\n",
       "      <td>ROK</td>\n",
       "      <td>NMY</td>\n",
       "      <td>0.6</td>\n",
       "      <td>200</td>\n",
       "      <td>SD3050</td>\n",
       "      <td>NaN</td>\n",
       "      <td>NaN</td>\n",
       "    </tr>\n",
       "    <tr>\n",
       "      <th>20210420_12</th>\n",
       "      <td>spd</td>\n",
       "      <td>ROK</td>\n",
       "      <td>NMY</td>\n",
       "      <td>0.6</td>\n",
       "      <td>300</td>\n",
       "      <td>SD3050</td>\n",
       "      <td>NaN</td>\n",
       "      <td>NaN</td>\n",
       "    </tr>\n",
       "    <tr>\n",
       "      <th>20210420_25</th>\n",
       "      <td>spd</td>\n",
       "      <td>ROK</td>\n",
       "      <td>NMY</td>\n",
       "      <td>0.6</td>\n",
       "      <td>250</td>\n",
       "      <td>SD3050</td>\n",
       "      <td>NaN</td>\n",
       "      <td>hypercontractile</td>\n",
       "    </tr>\n",
       "    <tr>\n",
       "      <th>20210420_26</th>\n",
       "      <td>spd</td>\n",
       "      <td>ROK</td>\n",
       "      <td>NMY</td>\n",
       "      <td>0.6</td>\n",
       "      <td>200</td>\n",
       "      <td>SD3050</td>\n",
       "      <td>NaN</td>\n",
       "      <td>NaN</td>\n",
       "    </tr>\n",
       "    <tr>\n",
       "      <th>20210420_28</th>\n",
       "      <td>spd</td>\n",
       "      <td>ROK</td>\n",
       "      <td>NMY</td>\n",
       "      <td>0.6</td>\n",
       "      <td>250</td>\n",
       "      <td>SD3050</td>\n",
       "      <td>NaN</td>\n",
       "      <td>NaN</td>\n",
       "    </tr>\n",
       "    <tr>\n",
       "      <th>20210420_29</th>\n",
       "      <td>spd</td>\n",
       "      <td>ROK</td>\n",
       "      <td>NMY</td>\n",
       "      <td>0.6</td>\n",
       "      <td>350</td>\n",
       "      <td>SD3050</td>\n",
       "      <td>NaN</td>\n",
       "      <td>EXAMPLE_11</td>\n",
       "    </tr>\n",
       "    <tr>\n",
       "      <th>20210420_30</th>\n",
       "      <td>spd</td>\n",
       "      <td>ROK</td>\n",
       "      <td>NMY</td>\n",
       "      <td>0.6</td>\n",
       "      <td>250</td>\n",
       "      <td>SD3050</td>\n",
       "      <td>NaN</td>\n",
       "      <td>NaN</td>\n",
       "    </tr>\n",
       "    <tr>\n",
       "      <th>20181117_1</th>\n",
       "      <td>spd</td>\n",
       "      <td>UTR</td>\n",
       "      <td>NMY</td>\n",
       "      <td>0.4</td>\n",
       "      <td>450</td>\n",
       "      <td>TIRF2030</td>\n",
       "      <td>NaN</td>\n",
       "      <td>NaN</td>\n",
       "    </tr>\n",
       "  </tbody>\n",
       "</table>\n",
       "</div>"
      ],
      "text/plain": [
       "            phenotype LabelG LabelR  tRes  nEnd      note contractility  \\\n",
       "ID                                                                        \n",
       "20181116_3        spd    ROK    NMY   0.4   500  TIRF2030           NaN   \n",
       "20181116_4        spd    ROK    NMY   0.4   650  TIRF2030           NaN   \n",
       "20181116_5        spd    ROK    NMY   0.4   900  TIRF2030           NaN   \n",
       "20181116_6        spd    ROK    NMY   0.4   350  TIRF2030           NaN   \n",
       "20190317_5        spd    ROK     LA   0.4   600  TIRF2025           NaN   \n",
       "20190317_7        spd    ROK     LA   0.4   650  TIRF2025           NaN   \n",
       "20201118_18       spd    ROK     LA   0.4   500  TIRF3030           NaN   \n",
       "20201118_19       spd    ROK     LA   0.4   350  TIRF3030           NaN   \n",
       "20190524_3        spd    ROK     LA   0.6   550    SD3050           NaN   \n",
       "20190524_4        spd    ROK     LA   0.6   300    SD3050           NaN   \n",
       "20190524_5        spd    ROK     LA   0.6   350    SD3050           NaN   \n",
       "20190524_6        spd    ROK     LA   0.6   250    SD3050           NaN   \n",
       "20190524_7        spd    ROK     LA   0.6   220    SD3050           NaN   \n",
       "20190524_8        spd    ROK     LA   0.6   350    SD3050           NaN   \n",
       "20210420_1        spd    ROK    NMY   0.6   300    SD3050           NaN   \n",
       "20210420_9        spd    ROK    NMY   0.6   250    SD3050           NaN   \n",
       "20210420_10       spd    ROK    NMY   0.6   200    SD3050           NaN   \n",
       "20210420_12       spd    ROK    NMY   0.6   300    SD3050           NaN   \n",
       "20210420_25       spd    ROK    NMY   0.6   250    SD3050           NaN   \n",
       "20210420_26       spd    ROK    NMY   0.6   200    SD3050           NaN   \n",
       "20210420_28       spd    ROK    NMY   0.6   250    SD3050           NaN   \n",
       "20210420_29       spd    ROK    NMY   0.6   350    SD3050           NaN   \n",
       "20210420_30       spd    ROK    NMY   0.6   250    SD3050           NaN   \n",
       "20181117_1        spd    UTR    NMY   0.4   450  TIRF2030           NaN   \n",
       "\n",
       "                      comment  \n",
       "ID                             \n",
       "20181116_3                NaN  \n",
       "20181116_4                NaN  \n",
       "20181116_5                NaN  \n",
       "20181116_6                NaN  \n",
       "20190317_5                NaN  \n",
       "20190317_7                NaN  \n",
       "20201118_18               NaN  \n",
       "20201118_19               NaN  \n",
       "20190524_3                NaN  \n",
       "20190524_4                NaN  \n",
       "20190524_5                NaN  \n",
       "20190524_6                NaN  \n",
       "20190524_7                NaN  \n",
       "20190524_8                NaN  \n",
       "20210420_1                NaN  \n",
       "20210420_9                NaN  \n",
       "20210420_10               NaN  \n",
       "20210420_12               NaN  \n",
       "20210420_25  hypercontractile  \n",
       "20210420_26               NaN  \n",
       "20210420_28               NaN  \n",
       "20210420_29        EXAMPLE_11  \n",
       "20210420_30               NaN  \n",
       "20181117_1                NaN  "
      ]
     },
     "execution_count": 3,
     "metadata": {},
     "output_type": "execute_result"
    }
   ],
   "source": [
    "embryos.loc[embryos['phenotype']=='spd']"
   ]
  },
  {
   "cell_type": "markdown",
   "id": "cad15491",
   "metadata": {},
   "source": [
    "### read raw tiff image"
   ]
  },
  {
   "cell_type": "code",
   "execution_count": 4,
   "id": "fbfed495",
   "metadata": {},
   "outputs": [
    {
     "data": {
      "text/plain": [
       "dict_keys(['savedir', 'img', 'imr'])"
      ]
     },
     "execution_count": 4,
     "metadata": {},
     "output_type": "execute_result"
    }
   ],
   "source": [
    "ID,phenotype = '20190524_5','spd'\n",
    "from utils import directories\n",
    "from measure.preprocess import read_raw\n",
    "dir_raw = pjoin([dir_data,directories['rawtif'],phenotype,ID])\n",
    "\n",
    "result_read_raw = read_raw([dir_out,'',ID],dir_raw,ID,embryos.loc[ID]['LabelR'],embryos.loc[ID]['tRes'],embryos.loc[ID]['nEnd'])#read raw 16-bit tif files\n",
    "result_read_raw.keys()\n"
   ]
  },
  {
   "cell_type": "code",
   "execution_count": 5,
   "id": "ed061490",
   "metadata": {},
   "outputs": [
    {
     "data": {
      "text/plain": [
       "(346, 512, 512)"
      ]
     },
     "execution_count": 5,
     "metadata": {},
     "output_type": "execute_result"
    }
   ],
   "source": [
    "img = result_read_raw['img']\n",
    "img.shape"
   ]
  },
  {
   "cell_type": "code",
   "execution_count": 6,
   "id": "08d39371",
   "metadata": {},
   "outputs": [
    {
     "data": {
      "text/plain": [
       "<matplotlib.image.AxesImage at 0x11cc08790>"
      ]
     },
     "execution_count": 6,
     "metadata": {},
     "output_type": "execute_result"
    },
    {
     "data": {
      "image/png": "[encoded data removed]",
      "text/plain": [
       "<Figure size 432x288 with 1 Axes>"
      ]
     },
     "metadata": {
      "needs_background": "light"
     },
     "output_type": "display_data"
    }
   ],
   "source": [
    "frame = 10\n",
    "import matplotlib.pyplot as plt\n",
    "plt.imshow(img[frame],cmap='gray')"
   ]
  },
  {
   "cell_type": "markdown",
   "id": "c855dab0",
   "metadata": {},
   "source": [
    "### pixels in the embryo"
   ]
  },
  {
   "cell_type": "code",
   "execution_count": 7,
   "id": "76c0b23c",
   "metadata": {},
   "outputs": [
    {
     "data": {
      "text/plain": [
       "<matplotlib.image.AxesImage at 0x11cd116d0>"
      ]
     },
     "execution_count": 7,
     "metadata": {},
     "output_type": "execute_result"
    },
    {
     "data": {
      "image/png": "[encoded data removed]",
      "text/plain": [
       "<Figure size 432x288 with 1 Axes>"
      ]
     },
     "metadata": {
      "needs_background": "light"
     },
     "output_type": "display_data"
    }
   ],
   "source": [
    "tRes = embryos.loc[ID]['tRes']\n",
    "from measure.preprocess import read_outline\n",
    "outline = read_outline(pjoin([dir_data,directories['outline'],'poly-'+ID+'.tif']))#read binary mask of the outline of the embryo\n",
    "plt.imshow(outline,cmap='gray')"
   ]
  },
  {
   "cell_type": "markdown",
   "id": "9b2386bf",
   "metadata": {},
   "source": [
    "### correct photobleach"
   ]
  },
  {
   "cell_type": "code",
   "execution_count": 8,
   "id": "a23c4477",
   "metadata": {},
   "outputs": [
    {
     "data": {
      "text/plain": [
       "((346, 512, 512), dtype('uint16'))"
      ]
     },
     "execution_count": 8,
     "metadata": {},
     "output_type": "execute_result"
    }
   ],
   "source": [
    "from measure.segmentation import bleach_correction,group_diff\n",
    "_,_,bc = bleach_correction(img, outline, window_length=int(40//tRes)*2+1, videozmin=int(100//tRes))#subtract photobleach trend in time for all pixels in each frame\n",
    "bc.shape,bc.dtype"
   ]
  },
  {
   "cell_type": "markdown",
   "id": "abd219a0",
   "metadata": {},
   "source": [
    "### grouped average in time"
   ]
  },
  {
   "cell_type": "code",
   "execution_count": 9,
   "id": "2f2359a1",
   "metadata": {},
   "outputs": [
    {
     "name": "stdout",
     "output_type": "stream",
     "text": [
      "RAW <class 'numpy.ndarray'> (173, 512, 512) uint16\n",
      "SMOOTH <class 'numpy.ndarray'> (173, 512, 512) float32\n",
      "DIFF <class 'numpy.ndarray'> (173, 512, 512) float32\n",
      "zgroups <class 'list'> 173\n"
     ]
    }
   ],
   "source": [
    "result_grouped = group_diff(bc,outline,tRes)\n",
    "for k,v in result_grouped.items():\n",
    "    info = [type(v)]\n",
    "    if isinstance(v, np.ndarray):\n",
    "        info += [v.shape,v.dtype]\n",
    "    elif hasattr(v, \"__len__\"):\n",
    "        info += [len(v)]\n",
    "    print(k,*info)\n"
   ]
  },
  {
   "cell_type": "markdown",
   "id": "c4fb65d5",
   "metadata": {},
   "source": [
    "### excitation = temporal derivative > threshold"
   ]
  },
  {
   "cell_type": "code",
   "execution_count": 10,
   "id": "b46854ee",
   "metadata": {},
   "outputs": [
    {
     "data": {
      "text/plain": [
       "[Text(0.5, 1.0, 'excitation')]"
      ]
     },
     "execution_count": 10,
     "metadata": {},
     "output_type": "execute_result"
    },
    {
     "data": {
      "image/png": "[encoded data removed]",
      "text/plain": [
       "<Figure size 432x288 with 1 Axes>"
      ]
     },
     "metadata": {
      "needs_background": "light"
     },
     "output_type": "display_data"
    }
   ],
   "source": [
    "threshold = 1.3# threshold value\n",
    "diff = result_grouped['DIFF']\n",
    "EXC = diff>threshold\n",
    "EXC[:,~outline] = False# remove excitation outside of embryo\n",
    "\n",
    "plt.imshow(EXC[frame],cmap='gray')\n",
    "ax = plt.gca()\n",
    "ax.set(title='excitation')"
   ]
  },
  {
   "cell_type": "code",
   "execution_count": 11,
   "id": "5ad2213d",
   "metadata": {
    "scrolled": true
   },
   "outputs": [
    {
     "data": {
      "text/plain": [
       "[Text(0.5, 1.0, 'excitation')]"
      ]
     },
     "execution_count": 11,
     "metadata": {},
     "output_type": "execute_result"
    },
    {
     "data": {
      "image/png": "[encoded data removed]",
      "text/plain": [
       "<Figure size 432x288 with 1 Axes>"
      ]
     },
     "metadata": {
      "needs_background": "light"
     },
     "output_type": "display_data"
    }
   ],
   "source": [
    "# remove excitation regions smaller than 100 pixels at each frame\n",
    "nonzeroz = lambda stk:np.where(stk.max(1).max(1))[0]\n",
    "nzzs = nonzeroz(EXC)\n",
    "from skimage.morphology import remove_small_objects\n",
    "for z in nzzs:\n",
    "    EXC[z] = remove_small_objects(EXC[z], min_size=10**2)\n",
    "\n",
    "plt.imshow(EXC[frame],cmap='gray')\n",
    "ax = plt.gca()\n",
    "ax.set(title='excitation')"
   ]
  },
  {
   "cell_type": "code",
   "execution_count": 12,
   "id": "3b00535a",
   "metadata": {
    "scrolled": true
   },
   "outputs": [
    {
     "data": {
      "text/plain": [
       "[Text(0.5, 1.0, 'new excitation')]"
      ]
     },
     "execution_count": 12,
     "metadata": {},
     "output_type": "execute_result"
    },
    {
     "data": {
      "image/png": "[encoded data removed]",
      "text/plain": [
       "<Figure size 432x288 with 1 Axes>"
      ]
     },
     "metadata": {
      "needs_background": "light"
     },
     "output_type": "display_data"
    }
   ],
   "source": [
    "NEWEXC = np.zeros(EXC.shape,bool)\n",
    "NEWEXC[nzzs[1:]] = np.diff(EXC[nzzs].astype(int),axis=0)>0\n",
    "\n",
    "plt.imshow(NEWEXC[frame],cmap='gray')\n",
    "ax = plt.gca()\n",
    "ax.set(title='new excitation')"
   ]
  },
  {
   "cell_type": "markdown",
   "id": "155c510c",
   "metadata": {},
   "source": [
    "## ROK temporal difference in labled pulsing regions"
   ]
  },
  {
   "cell_type": "code",
   "execution_count": 13,
   "id": "c83183eb",
   "metadata": {},
   "outputs": [
    {
     "data": {
      "text/plain": [
       "((346, 512, 512), dtype('bool'))"
      ]
     },
     "execution_count": 13,
     "metadata": {},
     "output_type": "execute_result"
    }
   ],
   "source": [
    "from measure.pixel_intensity import roi_to_stkmask\n",
    "#path of manually labeled excitation circles\n",
    "path_circles = pjoin([dir_data,directories['circles'], [embryos.loc[ID]['phenotype'],ID]])+'.zip'\n",
    "#read manually labeled excitation circles\n",
    "circles_mask = roi_to_stkmask(img.shape,result_grouped['zgroups'],path_circles)\n",
    "circles_mask.shape,circles_mask.dtype\n"
   ]
  },
  {
   "cell_type": "code",
   "execution_count": 14,
   "id": "10d62eda",
   "metadata": {},
   "outputs": [
    {
     "data": {
      "text/plain": [
       "(29, 21)"
      ]
     },
     "execution_count": 14,
     "metadata": {},
     "output_type": "execute_result"
    }
   ],
   "source": [
    "dz=np.arange(-15,6)\n",
    "from measure.pixel_intensity import intensity_ts\n",
    "diffts = intensity_ts(circles_mask,result_grouped['DIFF'],dz,outline)\n",
    "diffts.shape"
   ]
  },
  {
   "cell_type": "code",
   "execution_count": 15,
   "id": "0e89f62c",
   "metadata": {
    "scrolled": true
   },
   "outputs": [
    {
     "data": {
      "text/plain": [
       "[Text(0.5, 0, 'time (s)'),\n",
       " Text(0, 0.5, 'ROK temporal difference'),\n",
       " Text(0.5, 1.0, 'labeled pulsing regions in one embryo')]"
      ]
     },
     "execution_count": 15,
     "metadata": {},
     "output_type": "execute_result"
    },
    {
     "data": {
      "image/png": "[encoded data removed]",
      "text/plain": [
       "<Figure size 432x288 with 1 Axes>"
      ]
     },
     "metadata": {
      "needs_background": "light"
     },
     "output_type": "display_data"
    }
   ],
   "source": [
    "# plot ROK temporal difference in labeled pulsing regions\n",
    "for i in range(diffts.shape[0]):\n",
    "    plt.plot(dz*1.2,diffts[i])\n",
    "ax = plt.gca()\n",
    "ax.set(xlabel='time (s)',ylabel='ROK temporal difference',title='labeled pulsing regions in one embryo')"
   ]
  },
  {
   "cell_type": "markdown",
   "id": "4eead42e",
   "metadata": {},
   "source": [
    "## Measure summary statistics"
   ]
  },
  {
   "cell_type": "markdown",
   "id": "718e4c07",
   "metadata": {},
   "source": [
    "### detect contour of excitation regions"
   ]
  },
  {
   "cell_type": "code",
   "execution_count": 16,
   "id": "ad659cca",
   "metadata": {},
   "outputs": [
    {
     "data": {
      "text/plain": [
       "dict_keys([3, 4, 5, 6, 7, 8, 9, 10, 11, 12, 13, 14, 15, 16, 17, 18, 19, 20, 21, 22, 23, 24, 25, 26, 27, 28, 29, 30, 31, 32, 33, 34, 35, 36, 37, 38, 39, 40, 41, 42, 43, 44, 45, 46, 47, 48, 49, 50, 51, 52, 53, 54, 55, 56, 57, 58, 59, 60, 61, 62, 63, 64, 65, 66, 67, 68, 69, 70, 71, 72, 73, 74, 75, 76, 77, 78, 79, 80, 81, 82, 83, 84, 85, 86, 87, 88, 89, 90, 91, 92, 93, 94, 95, 96, 97, 98, 99, 100, 101, 102, 103, 104, 105, 106, 107, 108, 109, 110, 111, 112, 113, 114, 115, 116, 117, 118, 119, 120, 121, 122, 123, 124, 125, 126, 127, 128, 129, 130, 131, 132, 133, 134, 135, 136, 137, 138, 139, 140, 141, 142, 143, 144, 145, 146, 147, 148, 149, 150, 151, 152, 153, 154, 155, 156, 157, 158, 159, 160, 161, 162, 163, 164, 165, 166, 167, 168, 169])"
      ]
     },
     "execution_count": 16,
     "metadata": {},
     "output_type": "execute_result"
    }
   ],
   "source": [
    "from measure.contour import findContours\n",
    "blobs = findContours(EXC)\n",
    "blobs.keys()"
   ]
  },
  {
   "cell_type": "code",
   "execution_count": 17,
   "id": "dafa2277",
   "metadata": {},
   "outputs": [
    {
     "data": {
      "text/plain": [
       "[<measure.contour.Blob at 0x126c06c10>,\n",
       " <measure.contour.Blob at 0x126c06eb0>,\n",
       " <measure.contour.Blob at 0x126c06ee0>,\n",
       " <measure.contour.Blob at 0x126c06f10>,\n",
       " <measure.contour.Blob at 0x126c06f40>,\n",
       " <measure.contour.Blob at 0x126c06f70>,\n",
       " <measure.contour.Blob at 0x126c06fa0>,\n",
       " <measure.contour.Blob at 0x126c06fd0>,\n",
       " <measure.contour.Blob at 0x127711040>,\n",
       " <measure.contour.Blob at 0x127711070>,\n",
       " <measure.contour.Blob at 0x1277110a0>]"
      ]
     },
     "execution_count": 17,
     "metadata": {},
     "output_type": "execute_result"
    }
   ],
   "source": [
    "blobs[frame]"
   ]
  },
  {
   "cell_type": "code",
   "execution_count": 18,
   "id": "bcdeab47",
   "metadata": {},
   "outputs": [
    {
     "name": "stdout",
     "output_type": "stream",
     "text": [
      "pixels <class 'numpy.ndarray'> (1267, 2) int64\n",
      "pixelsp <class 'list'> 1267\n",
      "cnt <class 'numpy.ndarray'> (131, 2) int32\n",
      "cntp <class 'list'> 131\n",
      "pz <class 'numpy.int64'>\n",
      "j <class 'int'>\n"
     ]
    }
   ],
   "source": [
    "for k,v in dict(vars(blobs[frame][1])).items():\n",
    "    info = [type(v)]\n",
    "    if isinstance(v, np.ndarray):\n",
    "        info += [v.shape,v.dtype]\n",
    "    elif hasattr(v, \"__len__\"):\n",
    "        info += [len(v)]\n",
    "    print(k,*info)\n"
   ]
  },
  {
   "cell_type": "markdown",
   "id": "0eebc6e7",
   "metadata": {},
   "source": [
    "### measure polygon local deformations perpendicular to its edge"
   ]
  },
  {
   "cell_type": "code",
   "execution_count": 19,
   "id": "0f71ff62",
   "metadata": {},
   "outputs": [
    {
     "data": {
      "text/plain": [
       "((3160,), dtype('int64'))"
      ]
     },
     "execution_count": 19,
     "metadata": {},
     "output_type": "execute_result"
    }
   ],
   "source": [
    "from measure.edgespeed import point_velocity\n",
    "speed,speedmask = point_velocity(blobs,NEWEXC,outline)\n",
    "speed.shape,speed.dtype"
   ]
  },
  {
   "cell_type": "code",
   "execution_count": 20,
   "id": "eb4a04f0",
   "metadata": {},
   "outputs": [
    {
     "data": {
      "text/plain": [
       "[Text(0.5, 0, 'speed'), Text(0, 0.5, 'density')]"
      ]
     },
     "execution_count": 20,
     "metadata": {},
     "output_type": "execute_result"
    },
    {
     "data": {
      "image/png": "[encoded data removed]",
      "text/plain": [
       "<Figure size 432x288 with 1 Axes>"
      ]
     },
     "metadata": {
      "needs_background": "light"
     },
     "output_type": "display_data"
    }
   ],
   "source": [
    "plt.hist(speed,density=True)\n",
    "\n",
    "ax = plt.gca()\n",
    "ax.set(xlabel='speed',ylabel='density')"
   ]
  },
  {
   "cell_type": "markdown",
   "id": "cc834077",
   "metadata": {},
   "source": [
    "### link polygons recursively to map pulse trajectories"
   ]
  },
  {
   "cell_type": "code",
   "execution_count": 21,
   "id": "bca4fcc0",
   "metadata": {},
   "outputs": [
    {
     "data": {
      "text/plain": [
       "0.11822207442153534"
      ]
     },
     "execution_count": 21,
     "metadata": {},
     "output_type": "execute_result"
    }
   ],
   "source": [
    "from measure.link import connected_components\n",
    "area = connected_components(blobs)#cumulative area in pixels\n",
    "area = area/outline.sum()# cumulative area in fraction of embryo surface\n",
    "\n",
    "area"
   ]
  },
  {
   "cell_type": "markdown",
   "id": "4f1c349c",
   "metadata": {},
   "source": [
    "### measure periodicity of local time series"
   ]
  },
  {
   "cell_type": "code",
   "execution_count": 22,
   "id": "fbdc3dd6",
   "metadata": {},
   "outputs": [],
   "source": [
    "NMAX = 100\n",
    "from measure.recurrence import frequency,waittime\n",
    "freq = frequency(NEWEXC[:NMAX],outline)#frequency of new excitations\n",
    "wait = waittime(NEWEXC[:NMAX],outline,50)#wait time of new excitations\n"
   ]
  },
  {
   "cell_type": "code",
   "execution_count": 23,
   "id": "46e80d1c",
   "metadata": {},
   "outputs": [
    {
     "name": "stdout",
     "output_type": "stream",
     "text": [
      "(114268,) int64\n"
     ]
    },
    {
     "data": {
      "text/plain": [
       "[Text(0.5, 0, 'freq'), Text(0, 0.5, 'density')]"
      ]
     },
     "execution_count": 23,
     "metadata": {},
     "output_type": "execute_result"
    },
    {
     "data": {
      "image/png": "[encoded data removed]",
      "text/plain": [
       "<Figure size 432x288 with 1 Axes>"
      ]
     },
     "metadata": {
      "needs_background": "light"
     },
     "output_type": "display_data"
    }
   ],
   "source": [
    "print(freq.shape,freq.dtype)\n",
    "\n",
    "plt.hist(speed,density=True)\n",
    "\n",
    "ax = plt.gca()\n",
    "ax.set(xlabel='freq',ylabel='density')"
   ]
  },
  {
   "cell_type": "code",
   "execution_count": 24,
   "id": "18197fab",
   "metadata": {},
   "outputs": [
    {
     "name": "stdout",
     "output_type": "stream",
     "text": [
      "(102650,) int64\n"
     ]
    },
    {
     "data": {
      "text/plain": [
       "[Text(0.5, 0, 'wait'), Text(0, 0.5, 'density')]"
      ]
     },
     "execution_count": 24,
     "metadata": {},
     "output_type": "execute_result"
    },
    {
     "data": {
      "image/png": "[encoded data removed]",
      "text/plain": [
       "<Figure size 432x288 with 1 Axes>"
      ]
     },
     "metadata": {
      "needs_background": "light"
     },
     "output_type": "display_data"
    }
   ],
   "source": [
    "print(wait.shape,wait.dtype)\n",
    "\n",
    "plt.hist(wait,density=True)\n",
    "\n",
    "ax = plt.gca()\n",
    "ax.set(xlabel='wait',ylabel='density')"
   ]
  },
  {
   "cell_type": "code",
   "execution_count": 25,
   "id": "f8cb7c02",
   "metadata": {},
   "outputs": [],
   "source": [
    "from measure.pixel_intensity import ccfbf\n",
    "\n",
    "dz=np.arange(-5,6)\n",
    "ccf_col = lambda ts,ts2: np.stack([ccfbf(ts[:,pixel], ts2[:,pixel]) for pixel in np.arange(ts.shape[1])],0)\n",
    "g = result_grouped['SMOOTH'][1:NMAX-1,outline]\n",
    "acf_smooth = ccf_col(g,g)\n"
   ]
  },
  {
   "cell_type": "code",
   "execution_count": 27,
   "id": "8ab74694",
   "metadata": {},
   "outputs": [
    {
     "data": {
      "text/plain": [
       "[Text(0.5, 0, 'time offset'), Text(0, 0.5, 'autocorrelation')]"
      ]
     },
     "execution_count": 27,
     "metadata": {},
     "output_type": "execute_result"
    },
    {
     "data": {
      "image/png": "[encoded data removed]",
      "text/plain": [
       "<Figure size 432x288 with 1 Axes>"
      ]
     },
     "metadata": {
      "needs_background": "light"
     },
     "output_type": "display_data"
    }
   ],
   "source": [
    "lacf = g.shape[0]\n",
    "dz = np.arange(1-lacf,lacf)\n",
    "mhalf = np.logical_and(dz>=0,dz<40)\n",
    "\n",
    "plt.plot(np.arange(acf_smooth.shape[1])[mhalf]*1.2,acf_smooth.mean(0)[mhalf])\n",
    "ax = plt.gca()\n",
    "ax.set(xlabel='time offset',ylabel='autocorrelation')"
   ]
  },
  {
   "cell_type": "code",
   "execution_count": null,
   "id": "45266f73",
   "metadata": {},
   "outputs": [],
   "source": []
  }
 ],
 "metadata": {
  "kernelspec": {
   "display_name": "excitability",
   "language": "python",
   "name": "excitability"
  },
  "language_info": {
   "codemirror_mode": {
    "name": "ipython",
    "version": 3
   },
   "file_extension": ".py",
   "mimetype": "text/x-python",
   "name": "python",
   "nbconvert_exporter": "python",
   "pygments_lexer": "ipython3",
   "version": "3.9.9"
  }
 },
 "nbformat": 4,
 "nbformat_minor": 5
}
